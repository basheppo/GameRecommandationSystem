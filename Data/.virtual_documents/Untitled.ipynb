import pandas as pd 
import numpy as np 
import matplotlib.pyplot as plt 


description = pd.read_csv('steamdataset/steam_description_data.csv')
media_data = pd.read_csv('steamdataset/steam_media_data.csv')
requirements_data = pd.read_csv('steamdataset/steam_requirements_data.csv')
support_info = pd.read_csv('steamdataset/steam_support_info.csv')
steam = pd.read_csv('steamdataset/steam.csv')
steam_tag_data = pd.read_csv('steamdataset/steamspy_tag_data.csv')


steam.sample(5)


steam_na = steam.isna().sum()
steam_na.plot(kind='bar')
plt.show()



# since the number of missing values is small relativ to the dataset , im gonna drop those lines
df = steam.dropna() # steam.fillna('Missing')




