import pandas as pd 
import numpy as np 
import matplotlib.pyplot as plt 


description = pd.read_csv('steamdataset/steam_description_data.csv')
media_data = pd.read_csv('steamdataset/steam_media_data.csv')
requirements_data = pd.read_csv('steamdataset/steam_requirements_data.csv')
support_info = pd.read_csv('steamdataset/steam_support_info.csv')
steam = pd.read_csv('steamdataset/steam.csv')
steam_tag_data = pd.read_csv('steamdataset/steamspy_tag_data.csv')


steam.sample(5)


steam_na = steam.isna().sum()
print(steam_na)
steam_na.plot(kind='bar')
plt.show()



# since the number of missing values is small relativ to the dataset , im gonna drop those lines
original_df = steam.dropna() # steam.fillna('Missing')
original_df.isna().sum()


df = original_df.copy()
df['p_n_rating_ratio'] = np.where(df['negative_ratings'] == 0, np.nan, df['positive_ratings'] / df['negative_ratings']).round(2)
df.head(5)



(df['price'] == 0).any()


def categorize_based_onprice(price):
    if price == 0 :
        return 'Free'
    else :
        return 'Paid'
df['price_category'] = df['price'].apply(categorize_based_onprice)



# take a look on the others data
media_data.sample(3)



description.sample(3)


steam_media_data = pd.merge(df,media_data,left_on='appid', right_on='steam_appid',how='left').drop(columns=['steam_appid'])
final_merged_df = pd.merge(steam_media_data,description,left_on='appid', right_on='steam_appid',how='left').drop(columns=['steam_appid'])
final_merged_df.sample(3).T


import matplotlib.pyplot as plt
import requests
from PIL import Image
from io import BytesIO
for index, row in final_merged_df.sample(5).iterrows():
    print(f" The Game : {row['name']} is {row['price_category']} and has the following PNR-Ratio {row['p_n_rating_ratio']}  ")
    response = requests.get(row['header_image'])
    img = Image.open(BytesIO(response.content))
    plt.imshow(img)
    plt.axis('off')  
    plt.show()


#https://huggingface.co/WhereIsAI/UAE-Large-V1
from angle_emb import AnglE, Prompts
from sklearn.metrics.pairwise import cosine_distances
angle = AnglE.from_pretrained('WhereIsAI/UAE-Large-V1', pooling_strategy='cls').cuda()
doc_vecs = angle.encode([
    'The weather is great!',
    'The weather is very good!',
    'i am going to bed'
], normalize_embedding=True)
cosine_distances(doc_vecs)


description_embedding = angle.encode(final_merged_df['short_description'].to_list()[:100])
description_embedding.shape


# I need to remove the HTML tags from the description as they may impact the embeddings
from bs4 import BeautifulSoup
def clean_html(text):
    if pd.notnull(text):  
        return BeautifulSoup(text, 'html.parser').get_text()
    return text

final_merged_df['detailed_description'] = final_merged_df['detailed_description'].apply(clean_html)
final_merged_df.tail(5).T



# im gonna take only the first 1000 based on postive negative ratio and num of owners
own_description = []
for idx,row in final_merged_df.iterrows():
    des = f"Game name : {row['name']} Developer {row['genres']} Summary : {row['detailed_description']} "
    own_description.append(des)
final_merged_df['own_description'] = own_description
final_merged_df.sample(3)


final_merged_df['min_owners'] = final_merged_df['owners'].apply(lambda n : int(n.split('-')[0]))
final_merged_df.sample(3).T


df = final_merged_df.sort_values(['min_owners','p_n_rating_ratio'],ascending=[False,False]).iloc[:1000]
df.sample(3)


df.to_csv('games_dataset.csv',index=False)


df['own_description'].iloc[0]


batches = np.array_split(df['own_description'],100)
embs = []
for index,chunk in enumerate(batches):
    print(f"{index} /{len(batches)}")
    embs += list(angle.encode(list(chunk),to_numpy=True))
    
embs


embs_array = np.array(embs)
embs_array[0]


df = df.reset_index(drop=True)  


embs_df = pd.DataFrame(columns=['appid','embedding'])
for index,row in df.iterrows():
    embs_df.loc[index] = [row['appid'],embs_array[index]]
    
embs_df.head(10)


embs_df.to_csv('embeddings.csv',index=False)


game_name = 'Deathmatch Classic'
game_id = df[df['name']==game_name]['appid'].item()
game_emb = embs_df[embs_df['appid']==game_id]['embedding'].item()
game_emb


print(embs_array.shape)
print(game_emb.shape)


game_emb = game_emb.reshape(1,1024)
game_emb.shape


distances = cosine_distances(game_emb,embs_array)



min_distances_idx = distances.argsort()
min_distances_idx.shape


distances = distances.reshape(1000)
distances[min_distances_idx.reshape(1000)]


# joining the two dfs 
ready_df = pd.merge(df,embs_df,left_on='appid',right_on='appid',how='left')
ready_df.head(5)
    
    


ready_df.to_csv('final_dataset.csv',index=False)


# get top 10 recommandations :
top_10_index = min_distances_idx.reshape(1000)
# check the results 
top_10_df = ready_df.iloc[top_10_index][:10]
top_10_df



