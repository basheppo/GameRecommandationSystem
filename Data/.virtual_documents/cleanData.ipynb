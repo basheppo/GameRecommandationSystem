import pandas as pd 
import numpy as np 
import matplotlib.pyplot as plt 


description = pd.read_csv('steamdataset/steam_description_data.csv')
media_data = pd.read_csv('steamdataset/steam_media_data.csv')
requirements_data = pd.read_csv('steamdataset/steam_requirements_data.csv')
support_info = pd.read_csv('steamdataset/steam_support_info.csv')
steam = pd.read_csv('steamdataset/steam.csv')
steam_tag_data = pd.read_csv('steamdataset/steamspy_tag_data.csv')


steam.sample(5)


steam_na = steam.isna().sum()
print(steam_na)
steam_na.plot(kind='bar')
plt.show()



# since the number of missing values is small relativ to the dataset , im gonna drop those lines
original_df = steam.dropna() # steam.fillna('Missing')
original_df.isna().sum()


df = original_df.copy()
df['p_n_rating_ratio'] = np.where(df['negative_ratings'] == 0, np.nan, df['positive_ratings'] / df['negative_ratings']).round(2)
df.head(5)



#check if there 
(df['price'] == 0).any()


def categorize_based_onprice(price):
    if price == 0 :
        return 'Free'
    else :
        return 'Paid'
df['price_category'] = df['price'].apply(categorize_based_onprice)



# take a look on the others data
media_data.sample(3)



description.sample(3)


steam_media_data = pd.merge(df,media_data,left_on='appid', right_on='steam_appid',how='left').drop(columns=['steam_appid'])
final_merged_df = pd.merge(steam_media_data,description,left_on='appid', right_on='steam_appid',how='left').drop(columns=['steam_appid'])
final_merged_df.sample(3).T


import matplotlib.pyplot as plt
import requests
from PIL import Image
from io import BytesIO
for index, row in final_merged_df.sample(5).iterrows():
    print(f" The Game : {row['name']} is {row['price_category']} and has the following PNR-Ratio {row['p_n_rating_ratio']}  ")
    response = requests.get(row['header_image'])
    img = Image.open(BytesIO(response.content))
    plt.imshow(img)
    plt.axis('off')  
    plt.show()



